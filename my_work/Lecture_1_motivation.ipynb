{
 "cells": [
  {
   "cell_type": "markdown",
   "metadata": {},
   "source": [
    "# PH464/564: Scientific Computing (Fall 2024)\n",
    "\n",
    "**Professor Jeffrey S. Hazboun (Oregon State University)**"
   ]
  },
  {
   "cell_type": "markdown",
   "metadata": {},
   "source": [
    "### Solution"
   ]
  },
  {
   "cell_type": "markdown",
   "metadata": {},
   "source": [
    "![](https://web-assets.domo.com/miyagi/images/product/product-feature-22-data-never-sleeps-10.png)"
   ]
  },
  {
   "cell_type": "markdown",
   "metadata": {
    "slideshow": {
     "slide_type": "slide"
    }
   },
   "source": [
    "The amount of raw information that is being generated every minute is extraordinary. So, whether we like it or not, we have entered the realm of **\"Big Data\"**. However, even in the realm of **\"Small Data\"**, a proper statistical treatment that accounts for statistical and systematic noise, as well as as signal dependencies on the measured output, is essential. My work in Gravitational Wave Astrophysics is far more on the \"Small Data\" side of things. I'll give you a taste of both worlds.\n",
    "\n",
    "---\n",
    "\n",
    "What kinds of things can we learn from data, and how do we do it? \n",
    "\n",
    "*What* we can learn is really dependent on your goal, but this must align with the information content of the data. *How* we can interact with data is what **Data Mining** and **Machine Learning** are all about.\n",
    "\n",
    "* **Data mining** is exactly what it sounds like: sifting through piles of data in order to find something useful---like digging rock from the ground and extracting metal ores from it. It is sometimes called \"knowledge discovery\", since the emphasis is on techniques and attempts to find patterns in structured data.\n",
    "* **Machine learning** is about how to do this using computers to leverage our ability to extract useful information from the data by statistically comparing data to various models. The techniques are sometimes called \"statistical inference\", encompassing regression and model selection. \n",
    "\n",
    "---"
   ]
  },
  {
   "cell_type": "markdown",
   "metadata": {
    "slideshow": {
     "slide_type": "slide"
    }
   },
   "source": [
    "Who does data mining and uses machine learning?  Seems like everyone these days, and I guarantee they all get paid more than me.\n",
    "\n",
    "- Amazon and other online retail to predict things that you might buy or ads that may be of interest, https://phys.org/news/2019-06-amazon-tracking.html\n",
    "- Google for everything, but most interesting these days (I think) is self-driving cars: http://dataconomy.com/how-data-science-is-driving-the-driverless-car/\n",
    "- Insurance companies to predict how much of a risk it is to insure you\n",
    "- Financial institutions to predict the future prices of their investments\n",
    "- Goverments for all sorts of things\n",
    "- Election prognosticators, e.g., http://fivethirtyeight.com/\n",
    "- Netflix, Hulu, Disney+ to predict what shows you are likely to want to watch: https://en.wikipedia.org/wiki/Netflix_Prize, https://www.wired.co.uk/article/how-do-netflixs-algorithms-work-machine-learning-helps-to-predict-what-viewers-will-like\n",
    "- Sports teams, e.g., https://en.wikipedia.org/wiki/Moneyball\n",
    "- Facial recognition tools\n",
    "- and, of course, physicists!"
   ]
  },
  {
   "cell_type": "markdown",
   "metadata": {
    "slideshow": {
     "slide_type": "slide"
    }
   },
   "source": [
    "So there are many interesting things to learn, some money to be made, and glory to be had if you have knowledge of the basics of statistical inference, data mining, and machine learning.  \n",
    "\n",
    "\n",
    "![](https://imgs.xkcd.com/comics/correlation.png)\n",
    "\n",
    "\n",
    "But don't get too cocky as things can go [wrong](https://www.nytimes.com/2020/11/25/business/coronavirus-vaccine-astrazeneca-oxford.html), the world is made of people and not data, and machine learning by itself [doesn't *intrinsically* make our lives better](https://www.amazon.com/Weapons-Math-Destruction-Increases-Inequality/dp/0553418815/ref=sr_1_1?ie=UTF8&qid=1473514058&sr=8-1&keywords=Weapons+of+Math). Now for the obligatory *Terminator* image when discussing Machine Learning...\n",
    "\n",
    "\n",
    "![](https://www.filmstories.co.uk/wp-content/uploads/2019/10/terminator-850x600.jpg)"
   ]
  },
  {
   "cell_type": "markdown",
   "metadata": {
    "slideshow": {
     "slide_type": "slide"
    }
   },
   "source": [
    "---\n",
    "\n",
    "**My** interest in the topic stems from ongoing gravitational-wave experiments such as [LIGO](https://www.ligo.caltech.edu/) and [NANOGrav](http://nanograv.org/), to be joined in the future by the space-borne [LISA](https://lisa.nasa.gov/) detector. These instruments extract detailed information about GW-emitting systems from **signals buried deep, deep within noise**. The techniques required to do this are at the forefront of data-based inferece, relying heavily on **Bayesian techniques** (we delve into Bayesian inference in a few weeks).\n",
    "\n",
    "![](https://www.innovationnewsnetwork.com/wp-content/uploads/2020/09/1-%C2%A9-LIGOSonoma-State-UniversityA-Simonnet.jpg)\n",
    "\n",
    "In addition, there is a new generation of astronomical sky surveys like the [Legacy Survey of Space and Time (LSST)](https://www.lsst.org/) of the Vera Rubin Observatory. LSST is a project that is going to generate about **200 PB** of data (that's 200 million GB) by the end of its 10 year mission.  During that time, it will have measured a hundred or more properties for some 40 billion objects---*every 3 nights*.   \n",
    "\n",
    "\n",
    "Moving to future experiments, the [Square Kilometre Array](https://www.skatelescope.org/) will be the premier radio observatory of the late 2020s and 2030s, consisting of ~3000 dishes, each 15 meters wide, and spread over South Africa and Australia. In a single day, it will generate raw data amounting to an ***exobyte***, which is more than the entire current daily internet traffic.\n",
    "\n",
    "Even that is small potatoes for particle physicists. In particle physics, they throw away *most* of their data because there is so much.  Instead they have the notion of a *trigger*, which is basically as series of \"if-then\" statements that decide whether or not an \"event\" is worth saving (for future analsyis) or not."
   ]
  },
  {
   "cell_type": "markdown",
   "metadata": {
    "slideshow": {
     "slide_type": "slide"
    }
   },
   "source": [
    "### What even is this class?\n",
    "\n",
    "* An *introduction* to practical statistical inference and data analysis.\n",
    "* Some hacks that I have learned along the way.\n",
    "* While skewed towards astrophysics, many of the techniques we will look at are general.\n",
    "\n",
    "We won't be able to cover everything in just one semester, but I'll set you up to know the broad landscape of astrostatistics, equipping you to take further deep dives on your own."
   ]
  },
  {
   "cell_type": "markdown",
   "metadata": {
    "slideshow": {
     "slide_type": "slide"
    }
   },
   "source": [
    "This figure from drewconway.com nicely illustrates where we are trying to get: somewhere close to the middle!\n",
    "\n",
    "![http://static1.squarespace.com/static/5150aec6e4b0e340ec52710a/t/51525c33e4b0b3e0d10f77ab/1364352052403/Data_Science_VD.png?format=750w](http://static1.squarespace.com/static/5150aec6e4b0e340ec52710a/t/51525c33e4b0b3e0d10f77ab/1364352052403/Data_Science_VD.png?format=750w)"
   ]
  },
  {
   "cell_type": "markdown",
   "metadata": {
    "slideshow": {
     "slide_type": "slide"
    }
   },
   "source": [
    "Almost everything that we will do can be categorized into one of two different pairs of things.\n",
    "\n",
    "- **Supervised learning** vs. **unsupervised learning**\n",
    "  - It's the learning algorithm that is being supervised, not you :-)\n",
    "  - Unsupervised learning is associated with data mining and knowledge discovery. It is exploratory data analysis, learning qualitative features of structured/labeled data that were not previously known.  \n",
    "  - Supervised learning is associated with machine learning and statistical inference. We might know the \"truth\" for (some) of the data that we are analyzing, which is \"supervising\" and guiding the learning process. We might have a physical model (or models) for the phenomenon against which we are fitting data, or using the data to selecting between physical models. \n",
    "  \n",
    "\n",
    "  \n",
    "- **Classification** vs. **Regression**\n",
    "  - Classification means that we are trying to put our data into different discrete categories, e.g. **model selection**.\n",
    "  - Regression is the limit where the classification \"bins\" become continuous, e.g. **parameter estimation**.\n",
    "  \n",
    "These can be combined together:\n",
    " * supervised classification\n",
    " * unsupervised classification (aka clustering)\n",
    " * supervised regression\n",
    " * unsupervised regression (aka dimensional reduction)\n",
    "\n",
    "We'll talk about this in more detail when I introduce the scikit-learn package."
   ]
  },
  {
   "cell_type": "markdown",
   "metadata": {
    "slideshow": {
     "slide_type": "slide"
    }
   },
   "source": [
    "Graphically the course can be represented as a tour of the following [flowchart](http://scikit-learn.org/stable/tutorial/machine_learning_map/index.html) (where the link has links to each of these algorithms):\n",
    "\n",
    "![](http://scikit-learn.org/stable/_static/ml_map.png)"
   ]
  },
  {
   "cell_type": "markdown",
   "metadata": {
    "slideshow": {
     "slide_type": "slide"
    }
   },
   "source": [
    "Some reading resources that you might find useful:\n",
    "\n",
    "[Ball & Brunner 2010](http://www.worldscientific.com/doi/pdf/10.1142/S0218271810017160): astro-specific, but serves as a good general introduction too\n",
    "\n",
    "[Bloom & Richards 2011](http://adsabs.harvard.edu/abs/2012amld.book...89B)."
   ]
  }
 ],
 "metadata": {
  "anaconda-cloud": {},
  "kernelspec": {
   "display_name": "Python 3 (ipykernel)",
   "language": "python",
   "name": "python3"
  },
  "language_info": {
   "codemirror_mode": {
    "name": "ipython",
    "version": 3
   },
   "file_extension": ".py",
   "mimetype": "text/x-python",
   "name": "python",
   "nbconvert_exporter": "python",
   "pygments_lexer": "ipython3",
   "version": "3.12.11"
  }
 },
 "nbformat": 4,
 "nbformat_minor": 4
}
